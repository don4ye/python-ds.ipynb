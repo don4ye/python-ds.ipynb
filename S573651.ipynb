{
 "cells": [
  {
   "cell_type": "markdown",
   "id": "3a9f0aef-2cae-467e-a833-758d9c3d6ecc",
   "metadata": {},
   "source": [
    "### Student Name: Monsuru Adebisi"
   ]
  },
  {
   "cell_type": "code",
   "execution_count": 1,
   "id": "fb99dc25-4021-4811-9557-ab55427189b8",
   "metadata": {},
   "outputs": [
    {
     "name": "stdout",
     "output_type": "stream",
     "text": [
      "*     *\n",
      "**    **\n",
      "***   ***\n",
      "****  ****\n",
      "***** *****\n"
     ]
    }
   ],
   "source": [
    "# Loop through rows\n",
    "for i in range(1, 6):\n",
    "    # Print increasing stars on the left side\n",
    "    print('*' * i, end='')\n",
    "\n",
    "    # Print spaces in the middle\n",
    "    print(' ' * (6 - i), end='')\n",
    "\n",
    "    # Print increasing stars on the right side\n",
    "    print('*' * i)\n"
   ]
  },
  {
   "cell_type": "code",
   "execution_count": null,
   "id": "decd2219-dd60-42f2-9a18-112844912225",
   "metadata": {},
   "outputs": [],
   "source": []
  }
 ],
 "metadata": {
  "kernelspec": {
   "display_name": "Python 3 (ipykernel)",
   "language": "python",
   "name": "python3"
  },
  "language_info": {
   "codemirror_mode": {
    "name": "ipython",
    "version": 3
   },
   "file_extension": ".py",
   "mimetype": "text/x-python",
   "name": "python",
   "nbconvert_exporter": "python",
   "pygments_lexer": "ipython3",
   "version": "3.12.2"
  }
 },
 "nbformat": 4,
 "nbformat_minor": 5
}
